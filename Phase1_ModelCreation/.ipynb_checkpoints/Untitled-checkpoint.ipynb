{
 "cells": [
  {
   "cell_type": "code",
   "execution_count": 1,
   "id": "e98c8fc2",
   "metadata": {},
   "outputs": [
    {
     "ename": "ModuleNotFoundError",
     "evalue": "No module named 'skl2onnx'",
     "output_type": "error",
     "traceback": [
      "\u001b[0;31m---------------------------------------------------------------------------\u001b[0m",
      "\u001b[0;31mModuleNotFoundError\u001b[0m                       Traceback (most recent call last)",
      "\u001b[0;32m/var/folders/lj/zpnly2t14hz991pch7j3hmm40000gn/T/ipykernel_23194/1884932895.py\u001b[0m in \u001b[0;36m<module>\u001b[0;34m\u001b[0m\n\u001b[1;32m      1\u001b[0m \u001b[0;32mimport\u001b[0m \u001b[0mpickle\u001b[0m\u001b[0;34m\u001b[0m\u001b[0;34m\u001b[0m\u001b[0m\n\u001b[1;32m      2\u001b[0m \u001b[0;32mimport\u001b[0m \u001b[0mnumpy\u001b[0m \u001b[0;32mas\u001b[0m \u001b[0mnp\u001b[0m\u001b[0;34m\u001b[0m\u001b[0;34m\u001b[0m\u001b[0m\n\u001b[0;32m----> 3\u001b[0;31m \u001b[0;32mfrom\u001b[0m \u001b[0mskl2onnx\u001b[0m \u001b[0;32mimport\u001b[0m \u001b[0mconvert_sklearn\u001b[0m\u001b[0;34m\u001b[0m\u001b[0;34m\u001b[0m\u001b[0m\n\u001b[0m\u001b[1;32m      4\u001b[0m from skl2onnx.common.data_types import (\n\u001b[1;32m      5\u001b[0m     \u001b[0mFloatTensorType\u001b[0m\u001b[0;34m,\u001b[0m\u001b[0;34m\u001b[0m\u001b[0;34m\u001b[0m\u001b[0m\n",
      "\u001b[0;31mModuleNotFoundError\u001b[0m: No module named 'skl2onnx'"
     ]
    }
   ],
   "source": [
    "import pickle\n",
    "import numpy as np\n",
    "from skl2onnx import convert_sklearn\n",
    "from skl2onnx.common.data_types import (\n",
    "    FloatTensorType,\n",
    "    StringTensorType,\n",
    "    DoubleTensorType,\n",
    "    Int64TensorType,\n",
    ")\n",
    "from sklearn.feature_extraction.text import TfidfVectorizer\n",
    "\n"
   ]
  },
  {
   "cell_type": "code",
   "execution_count": null,
   "id": "03665e2b",
   "metadata": {},
   "outputs": [],
   "source": [
    "\n",
    "def load_model(filepath):\n",
    "    return pickle.load(open(filepath, \"rb\"))\n",
    "\n"
   ]
  },
  {
   "cell_type": "code",
   "execution_count": null,
   "id": "689eb972",
   "metadata": {},
   "outputs": [],
   "source": [
    "def save_onnx_model(onnx_model, filepath):\n",
    "    with open(filepath, \"wb\") as f:\n",
    "        f.write(onnx_model.SerializeToString())\n",
    "\n"
   ]
  },
  {
   "cell_type": "code",
   "execution_count": null,
   "id": "0fa7ab56",
   "metadata": {},
   "outputs": [],
   "source": [
    "def convert_to_onnx(sklearn_model, initial_type, seps=None):\n",
    "    options = None\n",
    "    if seps:\n",
    "        options = seps\n",
    "    return convert_sklearn(sklearn_model, \"tfidf\" if seps else None, initial_types=initial_type, options=options)\n",
    "\n"
   ]
  },
  {
   "cell_type": "code",
   "execution_count": null,
   "id": "19ab98a9",
   "metadata": {},
   "outputs": [],
   "source": [
    "file_path_classification = \"testing/classification_test.onnx\"\n",
    "file_path_clustering = \"testing/clustering_test.onnx\"\n",
    "file_path_classification_tfidf = \"testing/classification_tfidf_test.onnx\"\n",
    "file_path_clustering_tfidf = \"testing/clustering_tfidf_test.onnx\""
   ]
  },
  {
   "cell_type": "code",
   "execution_count": null,
   "id": "bee77925",
   "metadata": {},
   "outputs": [],
   "source": [
    "\n",
    "# Load the models\n",
    "classification_model = load_model(\"classification_model\")\n",
    "clustering_model = load_model(\"clustering_model\")\n",
    "classification_tfidf_model = load_model(\"classification_tfidf_model\")\n",
    "clustering_tfidf_model = load_model(\"clustering_tfidf_model\")\n"
   ]
  },
  {
   "cell_type": "code",
   "execution_count": null,
   "id": "930c3ee7",
   "metadata": {},
   "outputs": [],
   "source": [
    "\n",
    "# Define the initial types and options for the ONNX conversion\n",
    "seps = {TfidfVectorizer: {\"separators\": [\" \"]}}\n",
    "num_features = 1\n",
    "initial_type = [(\"float_input\", StringTensorType([None, num_features]))]\n"
   ]
  },
  {
   "cell_type": "code",
   "execution_count": null,
   "id": "09fc21b9",
   "metadata": {},
   "outputs": [],
   "source": [
    "\n",
    "# Convert the models to ONNX and save them to files\n",
    "onnx_classification = convert_to_onnx(classification_model, [(\"float_input\", FloatTensorType([None, 499]))], id(1):{'raw_scores': True, \"zipmap\": False}})\n",
    "save_onnx_model(onnx_classification, file_path_classification)\n"
   ]
  },
  {
   "cell_type": "code",
   "execution_count": null,
   "id": "b612462c",
   "metadata": {},
   "outputs": [],
   "source": [
    "\n",
    "onnx_clustering = convert_to_onnx(clustering_model, [(\"float_input\", FloatTensorType([None, 918]))])\n",
    "save_onnx_model(onnx_clustering, file_path_clustering)"
   ]
  },
  {
   "cell_type": "code",
   "execution_count": null,
   "id": "6a99bcd7",
   "metadata": {},
   "outputs": [],
   "source": [
    "seps = {TfidfVectorizer: {\"separators\": [\" \"]}}\n",
    "num_features = 1\n",
    "initial_type = [('float_input', StringTensorType([None, num_features]))]\n",
    "onx_clustering_tfidf = convert_sklearn(clustering_tfidf_model,\"tfidf\", initial_types=initial_type, options=seps)\n",
    "\n",
    "save_onnx_model(onx_clustering_tfidf, file_path_clustering_tfidf)\n"
   ]
  },
  {
   "cell_type": "code",
   "execution_count": null,
   "id": "644696ec",
   "metadata": {},
   "outputs": [],
   "source": [
    "seps = {TfidfVectorizer: {\"separators\": [\" \"]}}\n",
    "num_features = 1\n",
    "initial_type = [('float_input', StringTensorType([None, num_features]))]\n",
    "onx_classification_tfidf = convert_sklearn(classification_tfidf_model,\"tfidf\", initial_types=initial_type, options=seps)\n",
    "\n",
    "save_onnx_model(onx_classification_tfidf, file_path_classification_tfidf)\n",
    "\n",
    " "
   ]
  }
 ],
 "metadata": {
  "kernelspec": {
   "display_name": "Python 3 (ipykernel)",
   "language": "python",
   "name": "python3"
  },
  "language_info": {
   "codemirror_mode": {
    "name": "ipython",
    "version": 3
   },
   "file_extension": ".py",
   "mimetype": "text/x-python",
   "name": "python",
   "nbconvert_exporter": "python",
   "pygments_lexer": "ipython3",
   "version": "3.9.7"
  }
 },
 "nbformat": 4,
 "nbformat_minor": 5
}
