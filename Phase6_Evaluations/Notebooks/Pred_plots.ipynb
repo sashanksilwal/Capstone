{
 "cells": [
  {
   "cell_type": "code",
   "execution_count": 1,
   "id": "beb1a660",
   "metadata": {},
   "outputs": [],
   "source": [
    "import pandas as pd\n",
    "import matplotlib.pyplot as plt"
   ]
  },
  {
   "cell_type": "code",
   "execution_count": 2,
   "id": "d34e6432",
   "metadata": {},
   "outputs": [],
   "source": [
    "blocked_df= pd.read_csv(\"/Volumes/SAVE HERE/evaluations/Capstone_Paper/blocked_thresh.csv\", header=None, names=['url', 'jsurl', 'pred', 'prob'])\n",
    "\n"
   ]
  },
  {
   "cell_type": "code",
   "execution_count": 3,
   "id": "a6daca85",
   "metadata": {},
   "outputs": [],
   "source": [
    "block_cat_df= pd.read_csv(\"/Volumes/SAVE HERE/evaluations/Capstone_Paper/blocked_no_thresh.csv\", header=None, names=['url', 'jsurl', 'pred', 'prob'])\n",
    "\n"
   ]
  },
  {
   "cell_type": "code",
   "execution_count": 4,
   "id": "6b2dd9a8",
   "metadata": {},
   "outputs": [
    {
     "data": {
      "text/html": [
       "<div>\n",
       "<style scoped>\n",
       "    .dataframe tbody tr th:only-of-type {\n",
       "        vertical-align: middle;\n",
       "    }\n",
       "\n",
       "    .dataframe tbody tr th {\n",
       "        vertical-align: top;\n",
       "    }\n",
       "\n",
       "    .dataframe thead th {\n",
       "        text-align: right;\n",
       "    }\n",
       "</style>\n",
       "<table border=\"1\" class=\"dataframe\">\n",
       "  <thead>\n",
       "    <tr style=\"text-align: right;\">\n",
       "      <th></th>\n",
       "      <th>url</th>\n",
       "      <th>jsurl</th>\n",
       "      <th>pred</th>\n",
       "      <th>prob</th>\n",
       "    </tr>\n",
       "  </thead>\n",
       "  <tbody>\n",
       "    <tr>\n",
       "      <th>0</th>\n",
       "      <td>url</td>\n",
       "      <td>jsurl</td>\n",
       "      <td>pred</td>\n",
       "      <td>prob</td>\n",
       "    </tr>\n",
       "    <tr>\n",
       "      <th>1</th>\n",
       "      <td>https://youtube.com</td>\n",
       "      <td>https://www.youtube.com/s/desktop/a3aebd16/jsb...</td>\n",
       "      <td>analytics</td>\n",
       "      <td>0.835134744644165</td>\n",
       "    </tr>\n",
       "    <tr>\n",
       "      <th>2</th>\n",
       "      <td>https://twitter.com</td>\n",
       "      <td>https://abs.twimg.com/responsive-web/client-we...</td>\n",
       "      <td>analytics</td>\n",
       "      <td>0.9057336449623108</td>\n",
       "    </tr>\n",
       "    <tr>\n",
       "      <th>3</th>\n",
       "      <td>https://cloudflare.com</td>\n",
       "      <td>https://www.cloudflare.com/vendor/onetrust/scr...</td>\n",
       "      <td>analytics</td>\n",
       "      <td>0.9821560978889464</td>\n",
       "    </tr>\n",
       "    <tr>\n",
       "      <th>4</th>\n",
       "      <td>https://instagram.com</td>\n",
       "      <td>https://static.cdninstagram.com/rsrc.php/v3/yk...</td>\n",
       "      <td>analytics</td>\n",
       "      <td>0.9841970801353456</td>\n",
       "    </tr>\n",
       "  </tbody>\n",
       "</table>\n",
       "</div>"
      ],
      "text/plain": [
       "                      url                                              jsurl  \\\n",
       "0                     url                                              jsurl   \n",
       "1     https://youtube.com  https://www.youtube.com/s/desktop/a3aebd16/jsb...   \n",
       "2     https://twitter.com  https://abs.twimg.com/responsive-web/client-we...   \n",
       "3  https://cloudflare.com  https://www.cloudflare.com/vendor/onetrust/scr...   \n",
       "4   https://instagram.com  https://static.cdninstagram.com/rsrc.php/v3/yk...   \n",
       "\n",
       "        pred                prob  \n",
       "0       pred                prob  \n",
       "1  analytics   0.835134744644165  \n",
       "2  analytics  0.9057336449623108  \n",
       "3  analytics  0.9821560978889464  \n",
       "4  analytics  0.9841970801353456  "
      ]
     },
     "execution_count": 4,
     "metadata": {},
     "output_type": "execute_result"
    }
   ],
   "source": [
    "blocked_df.head()"
   ]
  },
  {
   "cell_type": "code",
   "execution_count": 5,
   "id": "c27f088a",
   "metadata": {},
   "outputs": [
    {
     "data": {
      "text/html": [
       "<div>\n",
       "<style scoped>\n",
       "    .dataframe tbody tr th:only-of-type {\n",
       "        vertical-align: middle;\n",
       "    }\n",
       "\n",
       "    .dataframe tbody tr th {\n",
       "        vertical-align: top;\n",
       "    }\n",
       "\n",
       "    .dataframe thead th {\n",
       "        text-align: right;\n",
       "    }\n",
       "</style>\n",
       "<table border=\"1\" class=\"dataframe\">\n",
       "  <thead>\n",
       "    <tr style=\"text-align: right;\">\n",
       "      <th></th>\n",
       "      <th>url</th>\n",
       "      <th>jsurl</th>\n",
       "      <th>pred</th>\n",
       "      <th>prob</th>\n",
       "    </tr>\n",
       "  </thead>\n",
       "  <tbody>\n",
       "    <tr>\n",
       "      <th>0</th>\n",
       "      <td>url</td>\n",
       "      <td>jsurl</td>\n",
       "      <td>pred</td>\n",
       "      <td>prob</td>\n",
       "    </tr>\n",
       "    <tr>\n",
       "      <th>1</th>\n",
       "      <td>https://facebook.com</td>\n",
       "      <td>https://static.xx.fbcdn.net/rsrc.php/v3/yY/r/1...</td>\n",
       "      <td>analytics</td>\n",
       "      <td>0.7817007303237915</td>\n",
       "    </tr>\n",
       "    <tr>\n",
       "      <th>2</th>\n",
       "      <td>https://youtube.com</td>\n",
       "      <td>https://www.youtube.com/s/desktop/a3aebd16/jsb...</td>\n",
       "      <td>analytics</td>\n",
       "      <td>0.5486108064651489</td>\n",
       "    </tr>\n",
       "    <tr>\n",
       "      <th>3</th>\n",
       "      <td>https://youtube.com</td>\n",
       "      <td>https://www.youtube.com/s/desktop/a3aebd16/jsb...</td>\n",
       "      <td>analytics</td>\n",
       "      <td>0.835134744644165</td>\n",
       "    </tr>\n",
       "    <tr>\n",
       "      <th>4</th>\n",
       "      <td>https://twitter.com</td>\n",
       "      <td>https://abs.twimg.com/responsive-web/client-we...</td>\n",
       "      <td>analytics</td>\n",
       "      <td>0.9057336449623108</td>\n",
       "    </tr>\n",
       "  </tbody>\n",
       "</table>\n",
       "</div>"
      ],
      "text/plain": [
       "                    url                                              jsurl  \\\n",
       "0                   url                                              jsurl   \n",
       "1  https://facebook.com  https://static.xx.fbcdn.net/rsrc.php/v3/yY/r/1...   \n",
       "2   https://youtube.com  https://www.youtube.com/s/desktop/a3aebd16/jsb...   \n",
       "3   https://youtube.com  https://www.youtube.com/s/desktop/a3aebd16/jsb...   \n",
       "4   https://twitter.com  https://abs.twimg.com/responsive-web/client-we...   \n",
       "\n",
       "        pred                prob  \n",
       "0       pred                prob  \n",
       "1  analytics  0.7817007303237915  \n",
       "2  analytics  0.5486108064651489  \n",
       "3  analytics   0.835134744644165  \n",
       "4  analytics  0.9057336449623108  "
      ]
     },
     "execution_count": 5,
     "metadata": {},
     "output_type": "execute_result"
    }
   ],
   "source": [
    "block_cat_df.head()"
   ]
  },
  {
   "cell_type": "code",
   "execution_count": 6,
   "id": "38589219",
   "metadata": {},
   "outputs": [
    {
     "data": {
      "image/png": "[encoded data removed]",
      "text/plain": [
       "<Figure size 432x288 with 1 Axes>"
      ]
     },
     "metadata": {
      "needs_background": "light"
     },
     "output_type": "display_data"
    }
   ],
   "source": [
    "\n",
    "# Group by url and count records\n",
    "blocked_count = blocked_df.groupby('url').size()\n",
    "\n",
    "# Count the number of times each count value occurs\n",
    "count_values = blocked_count.value_counts()\n",
    "\n",
    "# Create bar plot of count values\n",
    "plt.bar(count_values.index, count_values.values)\n",
    "plt.xlabel('Number of blocked records')\n",
    "plt.ylabel('Count')\n",
    "plt.title('Count of URLs by number of blocked records (threshold = 0)')\n",
    "plt.show()"
   ]
  },
  {
   "cell_type": "code",
   "execution_count": 7,
   "id": "9c3ef59d",
   "metadata": {},
   "outputs": [
    {
     "data": {
      "image/png": "[encoded data removed]",
      "text/plain": [
       "<Figure size 432x288 with 1 Axes>"
      ]
     },
     "metadata": {
      "needs_background": "light"
     },
     "output_type": "display_data"
    }
   ],
   "source": [
    "# Group by url and count records\n",
    "blocked_cat_count = block_cat_df.groupby('url').size()\n",
    "\n",
    "# Count the number of times each count value occurs\n",
    "count_cat_values = blocked_cat_count.value_counts()\n",
    "\n",
    "# Create bar plot of count values\n",
    "plt.bar(count_cat_values.index, count_cat_values.values)\n",
    "plt.xlabel('Number of blocked records')\n",
    "plt.ylabel('Count')\n",
    "plt.title('Count of URLs by number of blocked records (threshold = 0.8)')\n",
    "plt.show()"
   ]
  },
  {
   "cell_type": "code",
   "execution_count": 8,
   "id": "c11a118c",
   "metadata": {},
   "outputs": [
    {
     "data": {
      "image/png": "[encoded data removed]",
      "text/plain": [
       "<Figure size 576x432 with 1 Axes>"
      ]
     },
     "metadata": {
      "needs_background": "light"
     },
     "output_type": "display_data"
    }
   ],
   "source": [
    "# Create a figure and axis object\n",
    "fig, ax = plt.subplots(figsize=(8, 6))\n",
    "\n",
    "# Define pastel colors for the box plots\n",
    "colors = ['#8CB4F3', '#ff8c82']\n",
    "\n",
    "# Plot box plots for blocked_count and blocked_cat_count\n",
    "bp = ax.boxplot([blocked_count, blocked_cat_count], positions=[1,0], widths=0.6, patch_artist=True, showfliers=False)\n",
    "\n",
    "# Customize box plot colors and labels\n",
    "for patch, color in zip(bp['boxes'], colors):\n",
    "    patch.set_facecolor(color)\n",
    "ax.set_xticks([0, 1])\n",
    "\n",
    "# Set the color of the median line\n",
    "for median in bp['medians']:\n",
    "    median.set(color='black', linewidth=1.5)\n",
    "\n",
    "\n",
    "# set the labels and title\n",
    "ax.set_xticklabels(['Threshold = 0', 'Threshold = 0.8'], fontsize=12)\n",
    "ax.set_ylabel('Count of Websites Blocked', fontsize=12)\n",
    "ax.set_title('Comparison when using no Threshold and Threshold of 0.8 (Removed Outliers) ', fontsize=14)\n",
    "ax.tick_params(axis='both', which='major', labelsize=12)\n",
    "\n",
    "ax.grid(axis='y', linestyle='--', alpha=0.7)\n",
    "\n",
    "# Show the plot\n",
    "plt.show()\n",
    " \n",
    "\n",
    "\n"
   ]
  },
  {
   "cell_type": "code",
   "execution_count": 9,
   "id": "014a4470",
   "metadata": {},
   "outputs": [
    {
     "data": {
      "image/png": "[encoded data removed]",
      "text/plain": [
       "<Figure size 576x432 with 1 Axes>"
      ]
     },
     "metadata": {
      "needs_background": "light"
     },
     "output_type": "display_data"
    }
   ],
   "source": [
    "# Create a figure and axis object\n",
    "fig, ax = plt.subplots(figsize=(8, 6))\n",
    "\n",
    "# Define pastel colors for the box plots\n",
    "colors = ['#8CB4F3', '#ff8c82']\n",
    "\n",
    "# Plot box plots for blocked_count and blocked_cat_count\n",
    "bp = ax.boxplot([blocked_count, blocked_cat_count], positions=[1,0], widths=0.6, patch_artist=True)\n",
    "\n",
    "# Customize box plot colors and labels\n",
    "for patch, color in zip(bp['boxes'], colors):\n",
    "    patch.set_facecolor(color)\n",
    "ax.set_xticks([0, 1])\n",
    "\n",
    "# Set the color of the median line\n",
    "for median in bp['medians']:\n",
    "    median.set(color='black', linewidth=1.5)\n",
    "\n",
    "\n",
    "# set the labels and title\n",
    "ax.set_xticklabels(['Threshold = 0', 'Threshold = 0.8'], fontsize=12)\n",
    "ax.set_ylabel('Count of Websites Blocked', fontsize=12)\n",
    "ax.set_title('Comparison when using no Threshold and Threshold of 0.8 and ', fontsize=14)\n",
    "ax.tick_params(axis='both', which='major', labelsize=12)\n",
    "\n",
    "ax.grid(axis='y', linestyle='--', alpha=0.7)\n",
    "\n",
    "# Show the plot\n",
    "plt.show()\n",
    " \n",
    "\n",
    "\n",
    "\n"
   ]
  },
  {
   "cell_type": "code",
   "execution_count": 10,
   "id": "bf44562e",
   "metadata": {},
   "outputs": [
    {
     "data": {
      "text/plain": [
       "url\n",
       "https://1688.com       3\n",
       "https://360.cn         1\n",
       "https://3dmgame.com    1\n",
       "https://52pojie.cn     3\n",
       "https://adobe.io       2\n",
       "                      ..\n",
       "https://youtu.be       1\n",
       "https://youtube.com    1\n",
       "https://zhihu.com      2\n",
       "https://zoom.us        2\n",
       "url                    1\n",
       "Length: 191, dtype: int64"
      ]
     },
     "execution_count": 10,
     "metadata": {},
     "output_type": "execute_result"
    }
   ],
   "source": [
    "blocked_count"
   ]
  },
  {
   "cell_type": "code",
   "execution_count": 11,
   "id": "0e3df3eb",
   "metadata": {},
   "outputs": [
    {
     "data": {
      "text/plain": [
       "url\n",
       "https://1688.com       11\n",
       "https://360.cn          5\n",
       "https://3dmgame.com     2\n",
       "https://52pojie.cn      4\n",
       "https://adobe.io        3\n",
       "                       ..\n",
       "https://zhihu.com       4\n",
       "https://zillow.com      1\n",
       "https://zoho.com        1\n",
       "https://zoom.us         8\n",
       "url                     1\n",
       "Length: 251, dtype: int64"
      ]
     },
     "execution_count": 11,
     "metadata": {},
     "output_type": "execute_result"
    }
   ],
   "source": [
    "blocked_cat_count"
   ]
  },
  {
   "cell_type": "code",
   "execution_count": null,
   "id": "506ff8fc",
   "metadata": {},
   "outputs": [],
   "source": []
  }
 ],
 "metadata": {
  "kernelspec": {
   "display_name": "Python 3 (ipykernel)",
   "language": "python",
   "name": "python3"
  },
  "language_info": {
   "codemirror_mode": {
    "name": "ipython",
    "version": 3
   },
   "file_extension": ".py",
   "mimetype": "text/x-python",
   "name": "python",
   "nbconvert_exporter": "python",
   "pygments_lexer": "ipython3",
   "version": "3.9.12"
  }
 },
 "nbformat": 4,
 "nbformat_minor": 5
}
