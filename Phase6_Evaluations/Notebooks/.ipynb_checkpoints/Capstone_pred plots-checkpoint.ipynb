{
 "cells": [
  {
   "cell_type": "code",
   "execution_count": 1,
   "id": "0a63b5af",
   "metadata": {},
   "outputs": [],
   "source": [
    "import pandas as pd\n",
    "import matplotlib.pyplot as plt"
   ]
  },
  {
   "cell_type": "code",
   "execution_count": 24,
   "id": "cec46913",
   "metadata": {},
   "outputs": [],
   "source": [
    "df_classified = pd.read_csv(\"/Volumes/SAVE HERE/evaluations/Capstone_Paper/predictions_test.csv\", header=None, names=['url', 'jsurl', 'pred', 'prob'])\n",
    "\n"
   ]
  },
  {
   "cell_type": "code",
   "execution_count": 25,
   "id": "05360f67",
   "metadata": {},
   "outputs": [
    {
     "data": {
      "text/html": [
       "<div>\n",
       "<style scoped>\n",
       "    .dataframe tbody tr th:only-of-type {\n",
       "        vertical-align: middle;\n",
       "    }\n",
       "\n",
       "    .dataframe tbody tr th {\n",
       "        vertical-align: top;\n",
       "    }\n",
       "\n",
       "    .dataframe thead th {\n",
       "        text-align: right;\n",
       "    }\n",
       "</style>\n",
       "<table border=\"1\" class=\"dataframe\">\n",
       "  <thead>\n",
       "    <tr style=\"text-align: right;\">\n",
       "      <th></th>\n",
       "      <th>url</th>\n",
       "      <th>jsurl</th>\n",
       "      <th>pred</th>\n",
       "      <th>prob</th>\n",
       "    </tr>\n",
       "  </thead>\n",
       "  <tbody>\n",
       "    <tr>\n",
       "      <th>0</th>\n",
       "      <td>https://facebook.com</td>\n",
       "      <td>https://static.xx.fbcdn.net/rsrc.php/v3/yY/r/1...</td>\n",
       "      <td>analytics</td>\n",
       "      <td>0.781701</td>\n",
       "    </tr>\n",
       "    <tr>\n",
       "      <th>1</th>\n",
       "      <td>https://youtube.com</td>\n",
       "      <td>https://www.youtube.com/s/desktop/a3aebd16/jsb...</td>\n",
       "      <td>video</td>\n",
       "      <td>0.998567</td>\n",
       "    </tr>\n",
       "    <tr>\n",
       "      <th>2</th>\n",
       "      <td>https://youtube.com</td>\n",
       "      <td>https://www.youtube.com/s/desktop/a3aebd16/jsb...</td>\n",
       "      <td>cdn</td>\n",
       "      <td>0.995138</td>\n",
       "    </tr>\n",
       "    <tr>\n",
       "      <th>3</th>\n",
       "      <td>https://youtube.com</td>\n",
       "      <td>https://www.youtube.com/s/desktop/a3aebd16/jsb...</td>\n",
       "      <td>cdn</td>\n",
       "      <td>0.850044</td>\n",
       "    </tr>\n",
       "    <tr>\n",
       "      <th>4</th>\n",
       "      <td>https://youtube.com</td>\n",
       "      <td>https://www.youtube.com/s/desktop/a3aebd16/jsb...</td>\n",
       "      <td>cdn</td>\n",
       "      <td>0.994691</td>\n",
       "    </tr>\n",
       "  </tbody>\n",
       "</table>\n",
       "</div>"
      ],
      "text/plain": [
       "                    url                                              jsurl  \\\n",
       "0  https://facebook.com  https://static.xx.fbcdn.net/rsrc.php/v3/yY/r/1...   \n",
       "1   https://youtube.com  https://www.youtube.com/s/desktop/a3aebd16/jsb...   \n",
       "2   https://youtube.com  https://www.youtube.com/s/desktop/a3aebd16/jsb...   \n",
       "3   https://youtube.com  https://www.youtube.com/s/desktop/a3aebd16/jsb...   \n",
       "4   https://youtube.com  https://www.youtube.com/s/desktop/a3aebd16/jsb...   \n",
       "\n",
       "        pred      prob  \n",
       "0  analytics  0.781701  \n",
       "1      video  0.998567  \n",
       "2        cdn  0.995138  \n",
       "3        cdn  0.850044  \n",
       "4        cdn  0.994691  "
      ]
     },
     "execution_count": 25,
     "metadata": {},
     "output_type": "execute_result"
    }
   ],
   "source": [
    "df_classified.head()"
   ]
  },
  {
   "cell_type": "code",
   "execution_count": 26,
   "id": "9a501d0c",
   "metadata": {},
   "outputs": [
    {
     "data": {
      "text/plain": [
       "array(['analytics', 'video', 'cdn', 'social', 'tag-manager', 'content',\n",
       "       'hosting', 'ads', 'utility', 'other', 'marketing',\n",
       "       'customer-success'], dtype=object)"
      ]
     },
     "execution_count": 26,
     "metadata": {},
     "output_type": "execute_result"
    }
   ],
   "source": [
    "df_classified[\"pred\"].unique()"
   ]
  },
  {
   "cell_type": "code",
   "execution_count": 27,
   "id": "b6cfc5ef",
   "metadata": {},
   "outputs": [],
   "source": [
    "# Create boolean mask for desired rows\n",
    "mask = (df_classified['prob'] > 0.8) & (df_classified['pred'].isin(['ads', 'analytics', 'marketing', 'socials']))\n"
   ]
  },
  {
   "cell_type": "code",
   "execution_count": 28,
   "id": "80370c75",
   "metadata": {},
   "outputs": [],
   "source": [
    "# Create new DataFrame with desired rows\n",
    "blocked_df = df_classified[mask]"
   ]
  },
  {
   "cell_type": "code",
   "execution_count": 7,
   "id": "c44079da",
   "metadata": {},
   "outputs": [],
   "source": [
    "blocked_df.to_csv(\"blocked.csv\", index=False)"
   ]
  },
  {
   "cell_type": "code",
   "execution_count": 8,
   "id": "33667f54",
   "metadata": {},
   "outputs": [],
   "source": [
    "mask_block_cat = df_classified['pred'].isin(['ads', 'analytics', 'marketing', 'socials'])\n",
    "\n",
    "# Create new DataFrame with desired rows\n",
    "block_cat_df = df_classified[mask_block_cat]"
   ]
  },
  {
   "cell_type": "code",
   "execution_count": 9,
   "id": "98f24c4b",
   "metadata": {},
   "outputs": [
    {
     "data": {
      "text/html": [
       "<div>\n",
       "<style scoped>\n",
       "    .dataframe tbody tr th:only-of-type {\n",
       "        vertical-align: middle;\n",
       "    }\n",
       "\n",
       "    .dataframe tbody tr th {\n",
       "        vertical-align: top;\n",
       "    }\n",
       "\n",
       "    .dataframe thead th {\n",
       "        text-align: right;\n",
       "    }\n",
       "</style>\n",
       "<table border=\"1\" class=\"dataframe\">\n",
       "  <thead>\n",
       "    <tr style=\"text-align: right;\">\n",
       "      <th></th>\n",
       "      <th>url</th>\n",
       "      <th>jsurl</th>\n",
       "      <th>pred</th>\n",
       "      <th>prob</th>\n",
       "    </tr>\n",
       "  </thead>\n",
       "  <tbody>\n",
       "    <tr>\n",
       "      <th>0</th>\n",
       "      <td>https://facebook.com</td>\n",
       "      <td>https://static.xx.fbcdn.net/rsrc.php/v3/yY/r/1...</td>\n",
       "      <td>analytics</td>\n",
       "      <td>0.781701</td>\n",
       "    </tr>\n",
       "    <tr>\n",
       "      <th>8</th>\n",
       "      <td>https://youtube.com</td>\n",
       "      <td>https://www.youtube.com/s/desktop/a3aebd16/jsb...</td>\n",
       "      <td>analytics</td>\n",
       "      <td>0.548611</td>\n",
       "    </tr>\n",
       "    <tr>\n",
       "      <th>9</th>\n",
       "      <td>https://youtube.com</td>\n",
       "      <td>https://www.youtube.com/s/desktop/a3aebd16/jsb...</td>\n",
       "      <td>analytics</td>\n",
       "      <td>0.835135</td>\n",
       "    </tr>\n",
       "    <tr>\n",
       "      <th>13</th>\n",
       "      <td>https://twitter.com</td>\n",
       "      <td>https://abs.twimg.com/responsive-web/client-we...</td>\n",
       "      <td>analytics</td>\n",
       "      <td>0.905734</td>\n",
       "    </tr>\n",
       "    <tr>\n",
       "      <th>16</th>\n",
       "      <td>https://cloudflare.com</td>\n",
       "      <td>https://www.googleoptimize.com/optimize.js</td>\n",
       "      <td>ads</td>\n",
       "      <td>0.349939</td>\n",
       "    </tr>\n",
       "  </tbody>\n",
       "</table>\n",
       "</div>"
      ],
      "text/plain": [
       "                       url                                              jsurl  \\\n",
       "0     https://facebook.com  https://static.xx.fbcdn.net/rsrc.php/v3/yY/r/1...   \n",
       "8      https://youtube.com  https://www.youtube.com/s/desktop/a3aebd16/jsb...   \n",
       "9      https://youtube.com  https://www.youtube.com/s/desktop/a3aebd16/jsb...   \n",
       "13     https://twitter.com  https://abs.twimg.com/responsive-web/client-we...   \n",
       "16  https://cloudflare.com         https://www.googleoptimize.com/optimize.js   \n",
       "\n",
       "         pred      prob  \n",
       "0   analytics  0.781701  \n",
       "8   analytics  0.548611  \n",
       "9   analytics  0.835135  \n",
       "13  analytics  0.905734  \n",
       "16        ads  0.349939  "
      ]
     },
     "execution_count": 9,
     "metadata": {},
     "output_type": "execute_result"
    }
   ],
   "source": [
    "block_cat_df.head()"
   ]
  },
  {
   "cell_type": "code",
   "execution_count": 10,
   "id": "52a9b0c5",
   "metadata": {},
   "outputs": [],
   "source": [
    "block_cat_df.to_csv(\"blocking_cat.csv\", index=False)"
   ]
  },
  {
   "cell_type": "code",
   "execution_count": 11,
   "id": "1102b950",
   "metadata": {},
   "outputs": [
    {
     "data": {
      "text/plain": [
       "url\n",
       "https://1688.com       3\n",
       "https://360.cn         1\n",
       "https://3dmgame.com    1\n",
       "https://52pojie.cn     3\n",
       "https://adobe.io       2\n",
       "                      ..\n",
       "https://youku.com      3\n",
       "https://youtu.be       1\n",
       "https://youtube.com    1\n",
       "https://zhihu.com      2\n",
       "https://zoom.us        2\n",
       "Length: 190, dtype: int64"
      ]
     },
     "execution_count": 11,
     "metadata": {},
     "output_type": "execute_result"
    }
   ],
   "source": [
    "blocked_count = blocked_df.groupby('url').size()\n",
    "\n",
    "blocked_count"
   ]
  },
  {
   "cell_type": "code",
   "execution_count": 12,
   "id": "65918fd5",
   "metadata": {},
   "outputs": [
    {
     "name": "stdout",
     "output_type": "stream",
     "text": [
      "count    190.000000\n",
      "mean       2.768421\n",
      "std        2.914850\n",
      "min        1.000000\n",
      "25%        1.000000\n",
      "50%        2.000000\n",
      "75%        3.000000\n",
      "max       26.000000\n",
      "dtype: float64\n"
     ]
    }
   ],
   "source": [
    "print(blocked_count.describe())"
   ]
  },
  {
   "cell_type": "code",
   "execution_count": 13,
   "id": "0cf6c01e",
   "metadata": {},
   "outputs": [
    {
     "data": {
      "text/plain": [
       "url\n",
       "https://1688.com       11\n",
       "https://360.cn          5\n",
       "https://3dmgame.com     2\n",
       "https://52pojie.cn      4\n",
       "https://adobe.io        3\n",
       "                       ..\n",
       "https://youtube.com     2\n",
       "https://zhihu.com       4\n",
       "https://zillow.com      1\n",
       "https://zoho.com        1\n",
       "https://zoom.us         8\n",
       "Length: 250, dtype: int64"
      ]
     },
     "execution_count": 13,
     "metadata": {},
     "output_type": "execute_result"
    }
   ],
   "source": [
    "blocked_cat_count = block_cat_df.groupby('url').size()\n",
    "\n",
    "blocked_cat_count"
   ]
  },
  {
   "cell_type": "code",
   "execution_count": 14,
   "id": "14d805c3",
   "metadata": {},
   "outputs": [
    {
     "name": "stdout",
     "output_type": "stream",
     "text": [
      "count    250.000000\n",
      "mean       5.400000\n",
      "std        6.444075\n",
      "min        1.000000\n",
      "25%        2.000000\n",
      "50%        3.000000\n",
      "75%        7.000000\n",
      "max       68.000000\n",
      "dtype: float64\n"
     ]
    }
   ],
   "source": [
    "print(blocked_cat_count.describe())"
   ]
  },
  {
   "cell_type": "code",
   "execution_count": 15,
   "id": "03ae9192",
   "metadata": {},
   "outputs": [
    {
     "data": {
      "image/png": "[encoded data removed]",
      "text/plain": [
       "<Figure size 432x288 with 1 Axes>"
      ]
     },
     "metadata": {
      "needs_background": "light"
     },
     "output_type": "display_data"
    }
   ],
   "source": [
    "\n",
    "# Group by url and count records\n",
    "blocked_count = blocked_df.groupby('url').size()\n",
    "\n",
    "# Count the number of times each count value occurs\n",
    "count_values = blocked_count.value_counts()\n",
    "\n",
    "# Create bar plot of count values\n",
    "plt.bar(count_values.index, count_values.values)\n",
    "plt.xlabel('Number of blocked records')\n",
    "plt.ylabel('Count')\n",
    "plt.title('Count of URLs by number of blocked records')\n",
    "plt.show()"
   ]
  },
  {
   "cell_type": "code",
   "execution_count": 16,
   "id": "9c6c751f",
   "metadata": {},
   "outputs": [
    {
     "data": {
      "image/png": "[encoded data removed]",
      "text/plain": [
       "<Figure size 432x288 with 1 Axes>"
      ]
     },
     "metadata": {
      "needs_background": "light"
     },
     "output_type": "display_data"
    }
   ],
   "source": [
    "# Group by url and count records\n",
    "blocked_cat_count = block_cat_df.groupby('url').size()\n",
    "\n",
    "# Count the number of times each count value occurs\n",
    "count_cat_values = blocked_cat_count.value_counts()\n",
    "\n",
    "# Create bar plot of count values\n",
    "plt.bar(count_cat_values.index, count_cat_values.values)\n",
    "plt.xlabel('Number of blocked records')\n",
    "plt.ylabel('Count')\n",
    "plt.title('Count of URLs by number of blocked records')\n",
    "plt.show()"
   ]
  },
  {
   "cell_type": "code",
   "execution_count": 17,
   "id": "e10b486b",
   "metadata": {},
   "outputs": [
    {
     "data": {
      "image/png": "[encoded data removed]",
      "text/plain": [
       "<Figure size 576x432 with 1 Axes>"
      ]
     },
     "metadata": {
      "needs_background": "light"
     },
     "output_type": "display_data"
    }
   ],
   "source": [
    "# Create a figure and axis object\n",
    "fig, ax = plt.subplots(figsize=(8, 6))\n",
    "\n",
    "# Define pastel colors for the box plots\n",
    "colors = ['#8CB4F3', '#ff8c82']\n",
    "\n",
    "# Plot box plots for blocked_count and blocked_cat_count\n",
    "bp = ax.boxplot([blocked_count, blocked_cat_count], positions=[1,0], widths=0.6, patch_artist=True, showfliers=False)\n",
    "\n",
    "# Customize box plot colors and labels\n",
    "for patch, color in zip(bp['boxes'], colors):\n",
    "    patch.set_facecolor(color)\n",
    "ax.set_xticks([0, 1])\n",
    "\n",
    "# Set the color of the median line\n",
    "for median in bp['medians']:\n",
    "    median.set(color='black', linewidth=1.5)\n",
    "\n",
    "\n",
    "# set the labels and title\n",
    "ax.set_xticklabels(['Threshold = 0', 'Threshold = 0.8'], fontsize=12)\n",
    "ax.set_ylabel('Count of Websites Blocked', fontsize=12)\n",
    "ax.set_title('Comparison when using no Threshold and Threshold of 0.8 (Removed Outliers) ', fontsize=14)\n",
    "ax.tick_params(axis='both', which='major', labelsize=12)\n",
    "\n",
    "ax.grid(axis='y', linestyle='--', alpha=0.7)\n",
    "\n",
    "# Show the plot\n",
    "plt.show()\n",
    " \n",
    "\n"
   ]
  },
  {
   "cell_type": "code",
   "execution_count": 18,
   "id": "b3670846",
   "metadata": {},
   "outputs": [
    {
     "data": {
      "image/png": "[encoded data removed]",
      "text/plain": [
       "<Figure size 576x432 with 1 Axes>"
      ]
     },
     "metadata": {
      "needs_background": "light"
     },
     "output_type": "display_data"
    }
   ],
   "source": [
    "# Create a figure and axis object\n",
    "fig, ax = plt.subplots(figsize=(8, 6))\n",
    "\n",
    "# Define pastel colors for the box plots\n",
    "colors = ['#8CB4F3', '#ff8c82']\n",
    "\n",
    "# Plot box plots for blocked_count and blocked_cat_count\n",
    "bp = ax.boxplot([blocked_count, blocked_cat_count], positions=[1,0], widths=0.6, patch_artist=True)\n",
    "\n",
    "# Customize box plot colors and labels\n",
    "for patch, color in zip(bp['boxes'], colors):\n",
    "    patch.set_facecolor(color)\n",
    "ax.set_xticks([0, 1])\n",
    "\n",
    "# Set the color of the median line\n",
    "for median in bp['medians']:\n",
    "    median.set(color='black', linewidth=1.5)\n",
    "\n",
    "\n",
    "# set the labels and title\n",
    "ax.set_xticklabels(['Threshold = 0', 'Threshold = 0.8'], fontsize=12)\n",
    "ax.set_ylabel('Count of Websites Blocked', fontsize=12)\n",
    "ax.set_title('Comparison when using no Threshold and Threshold of 0.8 and ', fontsize=14)\n",
    "ax.tick_params(axis='both', which='major', labelsize=12)\n",
    "\n",
    "ax.grid(axis='y', linestyle='--', alpha=0.7)\n",
    "\n",
    "# Show the plot\n",
    "plt.show()\n",
    " \n",
    "\n",
    "\n"
   ]
  },
  {
   "cell_type": "code",
   "execution_count": 23,
   "id": "444b99d9",
   "metadata": {},
   "outputs": [
    {
     "data": {
      "text/plain": [
       "26"
      ]
     },
     "execution_count": 23,
     "metadata": {},
     "output_type": "execute_result"
    }
   ],
   "source": [
    "blocked_count.max()"
   ]
  },
  {
   "cell_type": "code",
   "execution_count": 33,
   "id": "e86ddefd",
   "metadata": {},
   "outputs": [
    {
     "data": {
      "text/plain": [
       "url\n",
       "https://1688.com       3\n",
       "https://360.cn         1\n",
       "https://3dmgame.com    1\n",
       "https://52pojie.cn     3\n",
       "https://adobe.io       2\n",
       "                      ..\n",
       "https://youku.com      3\n",
       "https://youtu.be       1\n",
       "https://youtube.com    1\n",
       "https://zhihu.com      2\n",
       "https://zoom.us        2\n",
       "Length: 190, dtype: int64"
      ]
     },
     "execution_count": 33,
     "metadata": {},
     "output_type": "execute_result"
    }
   ],
   "source": [
    "blocked_count"
   ]
  },
  {
   "cell_type": "code",
   "execution_count": 32,
   "id": "6661f94f",
   "metadata": {},
   "outputs": [
    {
     "data": {
      "text/plain": [
       "url\n",
       "https://1688.com       11\n",
       "https://360.cn          5\n",
       "https://3dmgame.com     2\n",
       "https://52pojie.cn      4\n",
       "https://adobe.io        3\n",
       "                       ..\n",
       "https://youtube.com     2\n",
       "https://zhihu.com       4\n",
       "https://zillow.com      1\n",
       "https://zoho.com        1\n",
       "https://zoom.us         8\n",
       "Length: 250, dtype: int64"
      ]
     },
     "execution_count": 32,
     "metadata": {},
     "output_type": "execute_result"
    }
   ],
   "source": [
    "blocked_cat_count"
   ]
  },
  {
   "cell_type": "code",
   "execution_count": 36,
   "id": "20c02d36",
   "metadata": {},
   "outputs": [
    {
     "data": {
      "text/html": [
       "<div>\n",
       "<style scoped>\n",
       "    .dataframe tbody tr th:only-of-type {\n",
       "        vertical-align: middle;\n",
       "    }\n",
       "\n",
       "    .dataframe tbody tr th {\n",
       "        vertical-align: top;\n",
       "    }\n",
       "\n",
       "    .dataframe thead th {\n",
       "        text-align: right;\n",
       "    }\n",
       "</style>\n",
       "<table border=\"1\" class=\"dataframe\">\n",
       "  <thead>\n",
       "    <tr style=\"text-align: right;\">\n",
       "      <th></th>\n",
       "      <th>jsurl</th>\n",
       "      <th>pred</th>\n",
       "      <th>prob</th>\n",
       "    </tr>\n",
       "    <tr>\n",
       "      <th>url</th>\n",
       "      <th></th>\n",
       "      <th></th>\n",
       "      <th></th>\n",
       "    </tr>\n",
       "  </thead>\n",
       "  <tbody>\n",
       "    <tr>\n",
       "      <th>https://1688.com</th>\n",
       "      <td>23</td>\n",
       "      <td>23</td>\n",
       "      <td>23</td>\n",
       "    </tr>\n",
       "    <tr>\n",
       "      <th>https://1c.ru</th>\n",
       "      <td>3</td>\n",
       "      <td>3</td>\n",
       "      <td>3</td>\n",
       "    </tr>\n",
       "    <tr>\n",
       "      <th>https://360.cn</th>\n",
       "      <td>14</td>\n",
       "      <td>14</td>\n",
       "      <td>14</td>\n",
       "    </tr>\n",
       "    <tr>\n",
       "      <th>https://3dmgame.com</th>\n",
       "      <td>10</td>\n",
       "      <td>10</td>\n",
       "      <td>10</td>\n",
       "    </tr>\n",
       "    <tr>\n",
       "      <th>https://52pojie.cn</th>\n",
       "      <td>4</td>\n",
       "      <td>4</td>\n",
       "      <td>4</td>\n",
       "    </tr>\n",
       "    <tr>\n",
       "      <th>...</th>\n",
       "      <td>...</td>\n",
       "      <td>...</td>\n",
       "      <td>...</td>\n",
       "    </tr>\n",
       "    <tr>\n",
       "      <th>https://youtube.com</th>\n",
       "      <td>10</td>\n",
       "      <td>10</td>\n",
       "      <td>10</td>\n",
       "    </tr>\n",
       "    <tr>\n",
       "      <th>https://zhihu.com</th>\n",
       "      <td>11</td>\n",
       "      <td>11</td>\n",
       "      <td>11</td>\n",
       "    </tr>\n",
       "    <tr>\n",
       "      <th>https://zillow.com</th>\n",
       "      <td>1</td>\n",
       "      <td>1</td>\n",
       "      <td>1</td>\n",
       "    </tr>\n",
       "    <tr>\n",
       "      <th>https://zoho.com</th>\n",
       "      <td>7</td>\n",
       "      <td>7</td>\n",
       "      <td>7</td>\n",
       "    </tr>\n",
       "    <tr>\n",
       "      <th>https://zoom.us</th>\n",
       "      <td>17</td>\n",
       "      <td>17</td>\n",
       "      <td>17</td>\n",
       "    </tr>\n",
       "  </tbody>\n",
       "</table>\n",
       "<p>290 rows × 3 columns</p>\n",
       "</div>"
      ],
      "text/plain": [
       "                     jsurl  pred  prob\n",
       "url                                   \n",
       "https://1688.com        23    23    23\n",
       "https://1c.ru            3     3     3\n",
       "https://360.cn          14    14    14\n",
       "https://3dmgame.com     10    10    10\n",
       "https://52pojie.cn       4     4     4\n",
       "...                    ...   ...   ...\n",
       "https://youtube.com     10    10    10\n",
       "https://zhihu.com       11    11    11\n",
       "https://zillow.com       1     1     1\n",
       "https://zoho.com         7     7     7\n",
       "https://zoom.us         17    17    17\n",
       "\n",
       "[290 rows x 3 columns]"
      ]
     },
     "execution_count": 36,
     "metadata": {},
     "output_type": "execute_result"
    }
   ],
   "source": [
    "df_classified.groupby(\"url\").count()"
   ]
  },
  {
   "cell_type": "code",
   "execution_count": null,
   "id": "191eabc5",
   "metadata": {},
   "outputs": [],
   "source": []
  }
 ],
 "metadata": {
  "kernelspec": {
   "display_name": "Python 3 (ipykernel)",
   "language": "python",
   "name": "python3"
  },
  "language_info": {
   "codemirror_mode": {
    "name": "ipython",
    "version": 3
   },
   "file_extension": ".py",
   "mimetype": "text/x-python",
   "name": "python",
   "nbconvert_exporter": "python",
   "pygments_lexer": "ipython3",
   "version": "3.9.12"
  }
 },
 "nbformat": 4,
 "nbformat_minor": 5
}
